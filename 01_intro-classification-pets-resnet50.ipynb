{
 "cells": [
  {
   "cell_type": "code",
   "execution_count": null,
   "id": "5e04f37f",
   "metadata": {},
   "outputs": [],
   "source": [
    "# Download the Oxford Pets dataset\n",
    "from fastai.vision.all import URLs, untar_data\n",
    "\n",
    "path = untar_data(URLs.PETS)\n",
    "path"
   ]
  },
  {
   "cell_type": "code",
   "execution_count": null,
   "id": "e9b68cc1",
   "metadata": {},
   "outputs": [],
   "source": [
    "from fastai.vision.all import ImageDataLoaders, get_image_files, Resize\n",
    "import re\n",
    "\n",
    "def get_breed_name(x):\n",
    "    \"\"\"Extract breed name from Oxford Pets dataset filename\"\"\"\n",
    "    # Filenames are in format: breed_name_number.jpg\n",
    "    # We need to extract the breed name (everything before the last underscore and number)\n",
    "    filename = x\n",
    "    # Remove the file extension\n",
    "    name_without_ext = filename.split('.')[0]\n",
    "    # Split by underscore and remove the last part (which is typically a number)\n",
    "    parts = name_without_ext.split('_')\n",
    "    # Join all parts except the last one (assuming last part is number)\n",
    "    if len(parts) > 1 and parts[-1].isdigit():\n",
    "        breed_name = '_'.join(parts[:-1])\n",
    "    else:\n",
    "        breed_name = name_without_ext\n",
    "    return breed_name\n",
    "\n",
    "dls = ImageDataLoaders.from_name_func(\n",
    "    path,\n",
    "    get_image_files(path / \"images\"),\n",
    "    label_func=get_breed_name,\n",
    "    valid_pct=0.2,\n",
    "    item_tfms=Resize(224, method=\"squish\"),\n",
    ")\n",
    "\n",
    "dls.show_batch(max_n=6, figsize=(7, 6))"
   ]
  },
  {
   "cell_type": "code",
   "execution_count": null,
   "id": "0cdb74d3",
   "metadata": {},
   "outputs": [],
   "source": [
    "# Check and set device type as per architecture\n",
    "import torch\n",
    "\n",
    "device_type = \"cuda\" if torch.cuda.is_available() else \"mps\" if torch.backends.mps.is_available() else \"cpu\"\n",
    "device = torch.device(device_type)\n",
    "\n",
    "device_type"
   ]
  },
  {
   "cell_type": "code",
   "execution_count": null,
   "id": "58d64450",
   "metadata": {},
   "outputs": [],
   "source": [
    "from fastai.vision.all import vision_learner, error_rate\n",
    "\n",
    "def train_model(model, num_epoch=1):\n",
    "    learner = vision_learner(dls, model, metrics=error_rate)\n",
    "    learner.model.to(device)\n",
    "    learner.fine_tune(num_epoch)\n",
    "    return learner"
   ]
  },
  {
   "cell_type": "code",
   "execution_count": null,
   "id": "7340b6e5",
   "metadata": {},
   "outputs": [],
   "source": [
    "# Train a Resnet50 model\n",
    "from fastai.vision.all import resnet50\n",
    "\n",
    "learner = train_model(resnet50, 2)"
   ]
  },
  {
   "cell_type": "code",
   "execution_count": null,
   "id": "88bc31de",
   "metadata": {},
   "outputs": [],
   "source": [
    "# Upload test image\n",
    "from ipywidgets import widgets\n",
    "\n",
    "uploader = widgets.FileUpload(\n",
    "    description=\"Upload an image\",\n",
    "    accept=\".jpg,.jpeg,.png\",\n",
    "    multiple=False,\n",
    ")\n",
    "\n",
    "uploader"
   ]
  },
  {
   "cell_type": "code",
   "execution_count": null,
   "id": "080112c6",
   "metadata": {},
   "outputs": [],
   "source": [
    "# Test the model with the uploaded image\n",
    "from fastai.vision.all import PILImage\n",
    "import torch\n",
    "\n",
    "if uploader.value:\n",
    "    img_bytes = bytes(uploader.value[0]['content'])\n",
    "    img = PILImage.create(img_bytes)\n",
    "    prediction, pred_idx, probs = learner.predict(img)\n",
    "\n",
    "    # Get the category with highest probability\n",
    "    max_prob_idx = torch.argmax(probs)\n",
    "    max_prob = probs[max_prob_idx]\n",
    "    predicted_breed = dls.vocab[max_prob_idx]\n",
    "\n",
    "    print(f\"Predicted breed: {predicted_breed}\")\n",
    "    print(f\"Confidence: {max_prob:.4f}\")\n",
    "    print(f\"\\nTop 5 predictions:\")\n",
    "\n",
    "    # Show top 5 predictions\n",
    "    sorted_probs, sorted_indices = torch.sort(probs, descending=True)\n",
    "    for i in range(min(5, len(dls.vocab))):\n",
    "        breed = dls.vocab[sorted_indices[i]]\n",
    "        probability = sorted_probs[i]\n",
    "        print(f\"  {i+1}. {breed}: {probability:.4f}\")\n",
    "else:\n",
    "    print(\"Please upload an image first\")"
   ]
  }
 ],
 "metadata": {
  "kernelspec": {
   "display_name": ".venv",
   "language": "python",
   "name": "python3"
  },
  "language_info": {
   "codemirror_mode": {
    "name": "ipython",
    "version": 3
   },
   "file_extension": ".py",
   "mimetype": "text/x-python",
   "name": "python",
   "nbconvert_exporter": "python",
   "pygments_lexer": "ipython3",
   "version": "3.13.5"
  }
 },
 "nbformat": 4,
 "nbformat_minor": 5
}
