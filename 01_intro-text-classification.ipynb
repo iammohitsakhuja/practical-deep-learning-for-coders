{
 "cells": [
  {
   "cell_type": "code",
   "execution_count": null,
   "id": "db534bf6",
   "metadata": {},
   "outputs": [],
   "source": [
    "from fastai.text.all import *\n",
    "\n",
    "path = untar_data(URLs.IMDB)\n",
    "path"
   ]
  },
  {
   "cell_type": "code",
   "execution_count": null,
   "id": "0a668368",
   "metadata": {},
   "outputs": [],
   "source": [
    "dls = TextDataLoaders.from_folder(path, valid=\"text\", bs=8)\n",
    "dls.show_batch(max_n=4, figsize=(7, 8))"
   ]
  },
  {
   "cell_type": "code",
   "execution_count": null,
   "id": "ee8a7f43",
   "metadata": {},
   "outputs": [],
   "source": [
    "# Check and set device type as per architecture\n",
    "import torch\n",
    "\n",
    "device_type = (\n",
    "    \"cuda\"\n",
    "    if torch.cuda.is_available()\n",
    "    else \"mps\" if torch.backends.mps.is_available() else \"cpu\"\n",
    ")\n",
    "device = torch.device(device_type)\n",
    "\n",
    "device_type"
   ]
  },
  {
   "cell_type": "code",
   "execution_count": null,
   "id": "73f05a69",
   "metadata": {},
   "outputs": [],
   "source": [
    "learner = text_classifier_learner(dls, arch=AWD_LSTM, drop_mult=0.5, metrics=accuracy)\n",
    "learner.model.to(device)\n",
    "learner.fine_tune(4, 1e-2)"
   ]
  },
  {
   "cell_type": "code",
   "execution_count": null,
   "id": "75fb43ce",
   "metadata": {},
   "outputs": [],
   "source": [
    "learner.predict(\"I really liked this movie!\")"
   ]
  },
  {
   "cell_type": "code",
   "execution_count": null,
   "id": "46b397a7",
   "metadata": {},
   "outputs": [],
   "source": [
    "doc(learner.predict)"
   ]
  }
 ],
 "metadata": {
  "kernelspec": {
   "display_name": ".venv",
   "language": "python",
   "name": "python3"
  },
  "language_info": {
   "codemirror_mode": {
    "name": "ipython",
    "version": 3
   },
   "file_extension": ".py",
   "mimetype": "text/x-python",
   "name": "python",
   "nbconvert_exporter": "python",
   "pygments_lexer": "ipython3",
   "version": "3.13.5"
  }
 },
 "nbformat": 4,
 "nbformat_minor": 5
}
